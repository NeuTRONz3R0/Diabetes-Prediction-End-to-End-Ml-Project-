{
  "cells": [
    {
      "cell_type": "code",
      "execution_count": null,
      "metadata": {
        "id": "nZ-LPDBA0MCs"
      },
      "outputs": [],
      "source": [
        "import pandas as pd\n",
        "import numpy as np\n",
        "import matplotlib.pyplot as plt\n",
        "%matplotlib inline"
      ]
    },
    {
      "cell_type": "code",
      "execution_count": null,
      "metadata": {
        "id": "CSw6APzN0pk1"
      },
      "outputs": [],
      "source": [
        "from sklearn.datasets import load_diabetes"
      ]
    },
    {
      "cell_type": "code",
      "execution_count": null,
      "metadata": {
        "id": "yV2LWXCR0piF"
      },
      "outputs": [],
      "source": [
        "diabetes = load_diabetes()\n"
      ]
    },
    {
      "cell_type": "code",
      "execution_count": null,
      "metadata": {
        "colab": {
          "base_uri": "https://localhost:8080/"
        },
        "id": "eJSIn6nR0pJi",
        "outputId": "8dae0e46-f8f5-46e4-a780-08611a86aed5"
      },
      "outputs": [],
      "source": [
        "diabetes.keys()"
      ]
    },
    {
      "cell_type": "code",
      "execution_count": null,
      "metadata": {
        "colab": {
          "base_uri": "https://localhost:8080/"
        },
        "id": "rdACETPZ0pG5",
        "outputId": "c33db2e7-e2d0-4eca-aef1-a982db76a2da"
      },
      "outputs": [],
      "source": [
        "#Checking Description of the dataset\n",
        "print(diabetes.DESCR)"
      ]
    },
    {
      "cell_type": "code",
      "execution_count": null,
      "metadata": {
        "colab": {
          "base_uri": "https://localhost:8080/"
        },
        "id": "3yrn1W8-0pEI",
        "outputId": "03b94589-307a-4518-cd27-8fb0340ddb1a"
      },
      "outputs": [],
      "source": [
        "print(diabetes.target)"
      ]
    },
    {
      "cell_type": "code",
      "execution_count": null,
      "metadata": {
        "colab": {
          "base_uri": "https://localhost:8080/",
          "height": 206
        },
        "id": "pez2XwR50pBa",
        "outputId": "0de88f36-320e-40f8-a008-2796c1bb9908"
      },
      "outputs": [],
      "source": [
        "dataset = pd.DataFrame(diabetes.data, columns = diabetes.feature_names)\n",
        "dataset['Diabetes Progress'] = diabetes.target\n",
        "dataset.head()"
      ]
    },
    {
      "cell_type": "code",
      "execution_count": null,
      "metadata": {
        "colab": {
          "base_uri": "https://localhost:8080/"
        },
        "id": "qVrM91lo0o-s",
        "outputId": "164b26b5-780b-4bb6-8412-036e5b511211"
      },
      "outputs": [],
      "source": [
        "dataset.info()"
      ]
    },
    {
      "cell_type": "code",
      "execution_count": null,
      "metadata": {
        "colab": {
          "base_uri": "https://localhost:8080/",
          "height": 206
        },
        "id": "fUHcU5IdgglD",
        "outputId": "ccb4e2a0-b507-42dc-fb09-997a4b609b35"
      },
      "outputs": [],
      "source": [
        "dataset.head()"
      ]
    },
    {
      "cell_type": "code",
      "execution_count": null,
      "metadata": {
        "colab": {
          "base_uri": "https://localhost:8080/",
          "height": 300
        },
        "id": "5w9ghtQB5F1E",
        "outputId": "0206af2f-686f-48f8-ee96-335ba9a09773"
      },
      "outputs": [],
      "source": [
        "#summarising stats\n",
        "dataset.describe()"
      ]
    },
    {
      "cell_type": "code",
      "execution_count": null,
      "metadata": {
        "colab": {
          "base_uri": "https://localhost:8080/"
        },
        "id": "D3Qagj2Q7M62",
        "outputId": "3d412221-6bcc-4b23-cb9b-ac8cd1d8713a"
      },
      "outputs": [],
      "source": [
        "dataset.isnull().sum()"
      ]
    },
    {
      "cell_type": "code",
      "execution_count": null,
      "metadata": {
        "colab": {
          "base_uri": "https://localhost:8080/",
          "height": 394
        },
        "id": "f7_gliIP7fRX",
        "outputId": "82167bbb-6d05-4175-edd6-ad98c29453ac"
      },
      "outputs": [],
      "source": [
        "#Checking for Correlation\n",
        "#checking multicolinearity. (When features are highly correlated with each other, it can be challenging to determine the individual effect of each\n",
        "#feature on the target variable. This can make the coefficient estimates unstable and less interpretable.)\n",
        "#using pearson correlation here. ( means values varies between -1 to +1 where, -1 is negatively correlated and positively correlated otherwise)\n",
        "dataset.corr()\n"
      ]
    },
    {
      "cell_type": "code",
      "execution_count": null,
      "metadata": {
        "colab": {
          "base_uri": "https://localhost:8080/",
          "height": 467
        },
        "id": "1Pff8ng1ZocH",
        "outputId": "5eb81d6c-a333-4585-fa7e-4d9f30cfe528"
      },
      "outputs": [],
      "source": [
        "plt.scatter(dataset['Diabetes Progress'], dataset['s6'])\n",
        "plt.xlabel(\"Diabetes Progress\")\n",
        "plt.ylabel(\"Blood Sugar Level\")"
      ]
    },
    {
      "cell_type": "code",
      "execution_count": null,
      "metadata": {
        "colab": {
          "base_uri": "https://localhost:8080/",
          "height": 467
        },
        "id": "S2jy9JW7bGGV",
        "outputId": "5585dbbf-61f5-436b-d65a-a93717c4e09f"
      },
      "outputs": [],
      "source": [
        "import seaborn as sns\n",
        "sns.regplot(x = 's6', y = 'Diabetes Progress', data = dataset)"
      ]
    },
    {
      "cell_type": "code",
      "execution_count": null,
      "metadata": {
        "colab": {
          "base_uri": "https://localhost:8080/",
          "height": 467
        },
        "id": "CDd29rJ_dWc2",
        "outputId": "70831d56-6b20-4912-c057-5fe38a6dedad"
      },
      "outputs": [],
      "source": [
        "plt.scatter(dataset['s3'], dataset['Diabetes Progress'])\n",
        "plt.xlabel(\"high-density lipoproteins\")\n",
        "plt.ylabel(\"Diabetes Progress \")"
      ]
    },
    {
      "cell_type": "code",
      "execution_count": null,
      "metadata": {
        "colab": {
          "base_uri": "https://localhost:8080/",
          "height": 467
        },
        "id": "iB2juN6ffV2x",
        "outputId": "520eb4f3-c89c-4948-8267-1b89a7cddb01"
      },
      "outputs": [],
      "source": [
        "import seaborn as sns\n",
        "sns.regplot(x = 's3', y = 'Diabetes Progress', data = dataset)"
      ]
    },
    {
      "cell_type": "code",
      "execution_count": null,
      "metadata": {
        "colab": {
          "base_uri": "https://localhost:8080/"
        },
        "id": "tGT77G9DgTLy",
        "outputId": "b4b9bdae-ab7c-48ca-bf40-bf7843c1b956"
      },
      "outputs": [],
      "source": [
        "# Independent and Dependent Features\n",
        "\n",
        "X = dataset.iloc[:, :-1] # takes all input features except target variable\n",
        "y = dataset.iloc[:, -1]\n",
        "y.head()"
      ]
    },
    {
      "cell_type": "code",
      "execution_count": null,
      "metadata": {
        "id": "BlDEZdhRh1R7"
      },
      "outputs": [],
      "source": [
        "#Train Test Flip\n",
        "from sklearn.model_selection import train_test_split"
      ]
    },
    {
      "cell_type": "code",
      "execution_count": null,
      "metadata": {
        "id": "ETlKhq6GiOTq"
      },
      "outputs": [],
      "source": [
        "X_train, X_test, y_train, y_test = train_test_split(X, y, test_size = 0.3, random_state = 42)\n"
      ]
    },
    {
      "cell_type": "code",
      "execution_count": null,
      "metadata": {
        "id": "u-dUSr0hiq4P"
      },
      "outputs": [],
      "source": [
        "# Standardizing the scaling of dataset ( So that GLobal Minimum can be achieved easily )\n",
        "from sklearn.preprocessing import StandardScaler\n",
        "scaler = StandardScaler()"
      ]
    },
    {
      "cell_type": "code",
      "execution_count": null,
      "metadata": {
        "id": "jqM3cjREi8tr"
      },
      "outputs": [],
      "source": [
        "#training model\n",
        "X_train = scaler.fit_transform(X_train)\n",
        "X_test = scaler.transform(X_test)  # didnt use Fit_transform because we dont want model to be aware of test data!"
      ]
    },
    {
      "cell_type": "code",
      "execution_count": null,
      "metadata": {
        "id": "S1LVR6kJSPlf"
      },
      "outputs": [],
      "source": [
        "import pickle\n",
        "pickle.dump(scaler, open('scaling.pkl', 'wb'))"
      ]
    },
    {
      "cell_type": "code",
      "execution_count": null,
      "metadata": {
        "colab": {
          "base_uri": "https://localhost:8080/",
          "height": 74
        },
        "id": "uVIEzjT1knuJ",
        "outputId": "4af616f1-47ce-474a-e9cb-f94758243ea9"
      },
      "outputs": [],
      "source": [
        "from sklearn.linear_model import LinearRegression\n",
        "regress =  LinearRegression()\n",
        "regress.fit(X_train, y_train)"
      ]
    },
    {
      "cell_type": "code",
      "execution_count": null,
      "metadata": {
        "colab": {
          "base_uri": "https://localhost:8080/"
        },
        "id": "J36svEaM4z13",
        "outputId": "1d4b2ba0-a134-4f5a-b46e-43c7475c0453"
      },
      "outputs": [],
      "source": [
        "#Printing Coeff and intercept\n",
        "print(regress.coef_) #gives coeff of all the number of independent features"
      ]
    },
    {
      "cell_type": "code",
      "execution_count": null,
      "metadata": {
        "colab": {
          "base_uri": "https://localhost:8080/"
        },
        "id": "CpkcCx648z24",
        "outputId": "0d994185-b439-4bde-a3eb-0af5f1ace0cf"
      },
      "outputs": [],
      "source": [
        "print(regress.intercept_)"
      ]
    },
    {
      "cell_type": "code",
      "execution_count": null,
      "metadata": {
        "colab": {
          "base_uri": "https://localhost:8080/"
        },
        "id": "ZqEEASDO9Ua0",
        "outputId": "c3c3aee8-7bd5-4eed-9557-6f6cb83eee97"
      },
      "outputs": [],
      "source": [
        "#parameters on which model is trained\n",
        "regress.get_params()"
      ]
    },
    {
      "cell_type": "code",
      "execution_count": null,
      "metadata": {
        "id": "55NzPrqG9ytW"
      },
      "outputs": [],
      "source": [
        "#prediction with x_test\n",
        "reg_pred = regress.predict(X_test)"
      ]
    },
    {
      "cell_type": "code",
      "execution_count": null,
      "metadata": {
        "colab": {
          "base_uri": "https://localhost:8080/"
        },
        "id": "rjdqzz0-9_8K",
        "outputId": "64aed83e-8885-4b0e-edb6-a0a947a7afbb"
      },
      "outputs": [],
      "source": [
        "reg_pred"
      ]
    },
    {
      "cell_type": "code",
      "execution_count": null,
      "metadata": {
        "colab": {
          "base_uri": "https://localhost:8080/",
          "height": 448
        },
        "id": "DBGBm9o1-IEY",
        "outputId": "11f47d45-fb9c-4fba-d60c-1f7a562ee930"
      },
      "outputs": [],
      "source": [
        "#plotting Scatter plot for the prediction\n",
        "plt.scatter(y_test, reg_pred)"
      ]
    },
    {
      "cell_type": "code",
      "execution_count": null,
      "metadata": {
        "id": "PkOlsmmy-kEr"
      },
      "outputs": [],
      "source": [
        "#finding error\n",
        "Residuals = y_test - reg_pred"
      ]
    },
    {
      "cell_type": "code",
      "execution_count": null,
      "metadata": {
        "colab": {
          "base_uri": "https://localhost:8080/"
        },
        "id": "8NCE6hDo-5iL",
        "outputId": "10b625c3-6121-42e8-95e2-d2e480b9624b"
      },
      "outputs": [],
      "source": [
        "Residuals"
      ]
    },
    {
      "cell_type": "code",
      "execution_count": null,
      "metadata": {
        "colab": {
          "base_uri": "https://localhost:8080/",
          "height": 524
        },
        "id": "Ocjjsoy_-69-",
        "outputId": "62b801de-b518-4416-85fa-cfd2cc6f3539"
      },
      "outputs": [],
      "source": [
        "#plotting errors\n",
        "sns.displot(Residuals, kind ='kde')"
      ]
    },
    {
      "cell_type": "code",
      "execution_count": null,
      "metadata": {
        "colab": {
          "base_uri": "https://localhost:8080/",
          "height": 448
        },
        "id": "46MVPB-8_dme",
        "outputId": "7d634145-ceea-4570-a97f-112a23e83897"
      },
      "outputs": [],
      "source": [
        "#plotting prediction and residual scatter plot\n",
        "plt.scatter(reg_pred, Residuals)"
      ]
    },
    {
      "cell_type": "code",
      "execution_count": null,
      "metadata": {
        "colab": {
          "base_uri": "https://localhost:8080/"
        },
        "id": "b2zqqVTfAIHk",
        "outputId": "2c6c3e78-9859-4db2-c18f-f1e7b6926fba"
      },
      "outputs": [],
      "source": [
        "from sklearn.metrics import mean_squared_error\n",
        "from sklearn.metrics import mean_absolute_error\n",
        "\n",
        "print (\"MAE\",mean_absolute_error(y_test, reg_pred))\n",
        "print (\"MSE\",mean_squared_error(y_test, reg_pred))\n",
        "print (\"RMSE\",np.sqrt(mean_squared_error(y_test, reg_pred)))"
      ]
    },
    {
      "cell_type": "code",
      "execution_count": null,
      "metadata": {
        "colab": {
          "base_uri": "https://localhost:8080/"
        },
        "id": "dX2zpsh7BUco",
        "outputId": "bccd5dab-db47-49e5-b9a7-a96ae31d7016"
      },
      "outputs": [],
      "source": [
        "# calculating R^2 and adjusted R^2\n",
        "from sklearn.metrics import r2_score\n",
        "score = r2_score(y_test, reg_pred)\n",
        "print(score)  #more it is towards one the more better it is"
      ]
    },
    {
      "cell_type": "code",
      "execution_count": null,
      "metadata": {
        "colab": {
          "base_uri": "https://localhost:8080/"
        },
        "id": "5XsIJgQMCrPR",
        "outputId": "162ab7fc-973f-4747-8044-b2ada56df118"
      },
      "outputs": [],
      "source": [
        "1 - (1-score)*(len(y_test-1))/(len(y_test)-X_test.shape[1]-1)"
      ]
    },
    {
      "cell_type": "code",
      "execution_count": null,
      "metadata": {
        "colab": {
          "base_uri": "https://localhost:8080/"
        },
        "id": "rFtb7uyQDUsS",
        "outputId": "49318fed-fc16-4388-e3f0-1dd800640199"
      },
      "outputs": [],
      "source": [
        "#New Data prediction\n",
        "diabetes.data[0].reshape(1, -1)  #actual shape of it was (10, )"
      ]
    },
    {
      "cell_type": "code",
      "execution_count": null,
      "metadata": {
        "colab": {
          "base_uri": "https://localhost:8080/"
        },
        "id": "WNBvLR08E8D9",
        "outputId": "dc288816-1ed3-4538-e862-c1464eb1208b"
      },
      "outputs": [],
      "source": [
        "#transformation of new data\n",
        "df = scaler.transform(diabetes.data[0].reshape(1, -1))"
      ]
    },
    {
      "cell_type": "code",
      "execution_count": null,
      "metadata": {
        "colab": {
          "base_uri": "https://localhost:8080/"
        },
        "id": "dUsZU9EYEC4Z",
        "outputId": "2d829ea0-4877-4439-a970-f1637d52dc39"
      },
      "outputs": [],
      "source": [
        "regress.predict(df)"
      ]
    },
    {
      "cell_type": "markdown",
      "metadata": {
        "id": "0Abry01hg4FR"
      },
      "source": [
        "# PICKLING\n"
      ]
    },
    {
      "cell_type": "code",
      "execution_count": null,
      "metadata": {
        "id": "X9g_yne6EhZe"
      },
      "outputs": [],
      "source": [
        "#Pickling model\n",
        "import pickle"
      ]
    },
    {
      "cell_type": "code",
      "execution_count": null,
      "metadata": {
        "id": "pyIadsYVfk6B"
      },
      "outputs": [],
      "source": [
        "pickle.dump(regress,open(\"/content/drive/MyDrive/ML_PROJECTS/regressmodel.pkl\",'wb'))"
      ]
    },
    {
      "cell_type": "code",
      "execution_count": null,
      "metadata": {
        "id": "C6guPk-_gNtz"
      },
      "outputs": [],
      "source": [
        "pickled_model = pickle.load(open(\"/content/drive/MyDrive/ML_PROJECTS/regressmodel.pkl\", 'rb'))"
      ]
    },
    {
      "cell_type": "code",
      "execution_count": null,
      "metadata": {
        "colab": {
          "base_uri": "https://localhost:8080/"
        },
        "id": "pxqE7cLTgluW",
        "outputId": "8e8ef015-6a90-4d02-d789-f85246b49543"
      },
      "outputs": [],
      "source": [
        "pickled_model.predict(df)"
      ]
    },
    {
      "cell_type": "code",
      "execution_count": null,
      "metadata": {
        "id": "vcRVdzdTpgwN"
      },
      "outputs": [],
      "source": []
    }
  ],
  "metadata": {
    "colab": {
      "provenance": []
    },
    "kernelspec": {
      "display_name": "Python 3",
      "name": "python3"
    },
    "language_info": {
      "name": "python",
      "version": "3.7.0"
    }
  },
  "nbformat": 4,
  "nbformat_minor": 0
}
